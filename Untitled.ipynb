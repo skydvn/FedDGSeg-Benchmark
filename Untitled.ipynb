{
 "cells": [
  {
   "cell_type": "code",
   "execution_count": 2,
   "id": "74195e89",
   "metadata": {},
   "outputs": [],
   "source": [
    "import torch"
   ]
  },
  {
   "cell_type": "code",
   "execution_count": 3,
   "id": "376740f9",
   "metadata": {},
   "outputs": [],
   "source": [
    "x = torch.tensor(2.,)"
   ]
  },
  {
   "cell_type": "code",
   "execution_count": 4,
   "id": "a848a215",
   "metadata": {},
   "outputs": [],
   "source": [
    "c = torch.tensor(2.)"
   ]
  },
  {
   "cell_type": "code",
   "execution_count": 5,
   "id": "48eb8d8d",
   "metadata": {},
   "outputs": [],
   "source": [
    "y = c * x"
   ]
  },
  {
   "cell_type": "code",
   "execution_count": 6,
   "id": "51f56ba6",
   "metadata": {},
   "outputs": [
    {
     "name": "stdout",
     "output_type": "stream",
     "text": [
      "tensor(2.) None\n",
      "tensor(2., requires_grad=True) None\n"
     ]
    }
   ],
   "source": [
    "print(c, c.grad)\n",
    "print(x, x.grad)"
   ]
  },
  {
   "cell_type": "code",
   "execution_count": 7,
   "id": "51a7ca37",
   "metadata": {},
   "outputs": [],
   "source": [
    "y.backward()"
   ]
  },
  {
   "cell_type": "code",
   "execution_count": 8,
   "id": "6dd16d4a",
   "metadata": {},
   "outputs": [
    {
     "name": "stdout",
     "output_type": "stream",
     "text": [
      "tensor(2.) None\n",
      "tensor(2., requires_grad=True) tensor(2.)\n"
     ]
    }
   ],
   "source": [
    "print(c, c.grad)\n",
    "print(x, x.grad)"
   ]
  },
  {
   "cell_type": "code",
   "execution_count": 9,
   "id": "804c3f0e",
   "metadata": {},
   "outputs": [],
   "source": [
    "def l2_loss(y_pred, y_true):\n",
    "    return torch.norm(y_pred, y_true) ** 2"
   ]
  },
  {
   "cell_type": "code",
   "execution_count": 14,
   "id": "aa054671",
   "metadata": {},
   "outputs": [],
   "source": [
    "theta = torch.tensor(3., requires_grad=True)\n",
    "x = torch.tensor(2.)\n",
    "y = torch.tensor(5.)"
   ]
  },
  {
   "cell_type": "code",
   "execution_count": 15,
   "id": "3463aa5f",
   "metadata": {},
   "outputs": [],
   "source": [
    "y_hat = x * theta\n",
    "loss = l2_loss(y_hat, y)"
   ]
  },
  {
   "cell_type": "code",
   "execution_count": 16,
   "id": "cfdeb642",
   "metadata": {},
   "outputs": [],
   "source": [
    "loss.backward()"
   ]
  },
  {
   "cell_type": "code",
   "execution_count": 17,
   "id": "3c4954aa",
   "metadata": {},
   "outputs": [
    {
     "name": "stdout",
     "output_type": "stream",
     "text": [
      "None tensor(24.)\n"
     ]
    }
   ],
   "source": [
    "print(x.grad, theta.grad)"
   ]
  },
  {
   "cell_type": "code",
   "execution_count": null,
   "id": "258fb694",
   "metadata": {},
   "outputs": [],
   "source": []
  }
 ],
 "metadata": {
  "kernelspec": {
   "display_name": "Python 3 (ipykernel)",
   "language": "python",
   "name": "python3"
  },
  "language_info": {
   "codemirror_mode": {
    "name": "ipython",
    "version": 3
   },
   "file_extension": ".py",
   "mimetype": "text/x-python",
   "name": "python",
   "nbconvert_exporter": "python",
   "pygments_lexer": "ipython3",
   "version": "3.8.8"
  }
 },
 "nbformat": 4,
 "nbformat_minor": 5
}
